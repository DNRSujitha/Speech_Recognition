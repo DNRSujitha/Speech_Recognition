{
 "cells": [
  {
   "cell_type": "code",
   "execution_count": null,
   "id": "a2fd1fa5-493a-4b66-8d6f-0f76d6e5d8b3",
   "metadata": {},
   "outputs": [],
   "source": [
    "pip install SpeechRecognition pyaudio"
   ]
  },
  {
   "cell_type": "code",
   "execution_count": null,
   "id": "2d95d456-000e-4361-a56a-8206ebda7c35",
   "metadata": {},
   "outputs": [],
   "source": [
    "import speech_recognition as sr\n",
    "\n",
    "def transcribe_speech():\n",
    "    recognizer = sr.Recognizer()\n",
    "    recognizer.pause_threshold = 1.3  \n",
    "\n",
    "    with sr.Microphone() as source:\n",
    "        print(\"🎤 Listening... Speak now!\")\n",
    "        recognizer.adjust_for_ambient_noise(source)\n",
    "        audio = recognizer.listen(source)\n",
    "    \n",
    "    try:\n",
    "        text = recognizer.recognize_google(audio)\n",
    "        print(\" Transcription:\\n\", text)\n",
    "    except sr.UnknownValueError:\n",
    "        print(\" Google Speech Recognition could not understand audio.\")\n",
    "    except sr.RequestError as e:\n",
    "        print(f\" Could not request results; {e}\")\n",
    "\n",
    "if __name__ == \"__main__\":\n",
    "    print(\" Speech Recognition System \")\n",
    "    print(\"  Pause for 1.3sec after speaking or Press Ctrl+C  to stop...\")\n",
    "    try:\n",
    "        transcribe_speech()\n",
    "    except KeyboardInterrupt:\n",
    "        print(\"\\n🛑 Stopping speech recognition. Goodbye!\")\n"
   ]
  }
 ],
 "metadata": {
  "kernelspec": {
   "display_name": "Python 3 (ipykernel)",
   "language": "python",
   "name": "python3"
  },
  "language_info": {
   "codemirror_mode": {
    "name": "ipython",
    "version": 3
   },
   "file_extension": ".py",
   "mimetype": "text/x-python",
   "name": "python",
   "nbconvert_exporter": "python",
   "pygments_lexer": "ipython3",
   "version": "3.12.7"
  }
 },
 "nbformat": 4,
 "nbformat_minor": 5
}
